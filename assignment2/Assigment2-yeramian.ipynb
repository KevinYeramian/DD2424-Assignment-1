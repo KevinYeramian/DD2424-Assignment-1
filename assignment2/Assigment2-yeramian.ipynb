{
 "cells": [
  {
   "cell_type": "markdown",
   "metadata": {},
   "source": [
    "# Assigment 2 Deep Learning\n",
    "### by Yeramian Kevin"
   ]
  },
  {
   "cell_type": "code",
   "execution_count": 5,
   "metadata": {},
   "outputs": [],
   "source": [
    "# Import for the Assigment1\n",
    "import matplotlib\n",
    "import matplotlib.pyplot as plt\n",
    "import matplotlib.patches as mpatches\n",
    "import numpy as np\n",
    "import math\n",
    "import pickle\n",
    "import copy"
   ]
  },
  {
   "cell_type": "markdown",
   "metadata": {},
   "source": [
    "## Question 1"
   ]
  },
  {
   "cell_type": "code",
   "execution_count": 16,
   "metadata": {},
   "outputs": [],
   "source": [
    "# Global Variable\n",
    "training_file = \"data_batch_1\"\n",
    "validation_file = \"data_batch_2\"\n",
    "test_file = \"test_batch\"\n",
    "data_folder = \"../Assignment1/cifar-10-batches-py/\"\n",
    "N = 10000\n",
    "K = 10\n",
    "d = 3072\n",
    "m = 50\n",
    "\n",
    "# - X(d,N)\n",
    "# - W1(m,d)\n",
    "# - b1(m,1)\n",
    "# - W2(K,m)\n",
    "# - b2(K,1)"
   ]
  },
  {
   "cell_type": "code",
   "execution_count": 17,
   "metadata": {},
   "outputs": [],
   "source": [
    "#Q1\n",
    "\n",
    "# Trasnform a vector of label to a vector of hot-one(dumies)\n",
    "def hot_one(y):\n",
    "    Y = []\n",
    "    for yi in y:\n",
    "        yihot = [0] * K\n",
    "        yihot[yi] = 1\n",
    "        Y.append(yihot)\n",
    "    return np.array(Y)\n",
    "    \n",
    "    \n",
    "#Functions that load data from file.\n",
    "def load_batch(file_name):\n",
    "\n",
    "    with open(file_name, 'rb') as fo:\n",
    "        dict = pickle.load(fo, encoding='bytes')\n",
    "    y = np.hstack(dict[b'labels'])\n",
    "    X = dict[b'data'].astype(float).T / 255.0\n",
    "    Y = hot_one(y).T\n",
    "    return X,Y,y\n",
    "\n",
    "#Function that normalize the data( Only mean)\n",
    "#Input : - X(d,N)\n",
    "#Output: - X(d,N)\n",
    "\n",
    "def normalizeData(X):\n",
    "    m = np.mean(X,1)\n",
    "    X = (X.T - m).T\n",
    "    return X, m\n",
    "#Output:\n",
    "# - W1(m,d)\n",
    "# - b1(m,1)\n",
    "# - W2(K,m)\n",
    "# - b2(K,1)\n",
    "def initializeWb(K, d, m):\n",
    "    mu = 0\n",
    "    sigma = 0.01\n",
    "    W1 =  np.random.normal(mu, sigma, (m,d))\n",
    "    b1 = np.random.normal(mu, sigma, (m,1))\n",
    "    W2 =  np.random.normal(mu, sigma, (K,m))\n",
    "    b2 = np.random.normal(mu, sigma, (K,1))\n",
    "    return W1, b1, W2, b2\n",
    "\n"
   ]
  },
  {
   "cell_type": "code",
   "execution_count": 18,
   "metadata": {},
   "outputs": [],
   "source": [
    "#Load of every datasete\n",
    "\n",
    "X_train, Y_train, y_train = load_batch(data_folder + training_file)\n",
    "X_test, Y_test, y_test = load_batch(data_folder + test_file)\n",
    "X_val, Y_val, y_val = load_batch(data_folder + validation_file)\n",
    "\n",
    "W1, b1, W2, b2 = initializeWb(K,d,m)\n",
    "\n",
    "X_train, m = normalizeData(X_train)\n",
    "X_test = (X_test.T - m).T\n",
    "X_val = (X_val.T - m).T"
   ]
  },
  {
   "cell_type": "markdown",
   "metadata": {},
   "source": [
    "## Question 2\n"
   ]
  },
  {
   "cell_type": "code",
   "execution_count": 19,
   "metadata": {},
   "outputs": [],
   "source": [
    "#Output : # P (KxN)\n",
    "def evaluate_Classifier(X,W1,b1,W2,b2):\n",
    "    s1 = np.dot(W1,X) + b1 # KxN\n",
    "    h = np.maximum(s1, 0)\n",
    "    s = np.dot(W2,h) + b2\n",
    "    aux = np.exp(s)\n",
    "    summ = np.sum(aux, axis=0) #axis=0 sum by colum so we got 1000 therm to normalize\n",
    "    p = aux / summ\n",
    "    return p"
   ]
  },
  {
   "cell_type": "code",
   "execution_count": 20,
   "metadata": {},
   "outputs": [
    {
     "name": "stdout",
     "output_type": "stream",
     "text": [
      "[0.09943192 0.09980968 0.09944609 0.10216151 0.10071271 0.09957528\n",
      " 0.09889213 0.1018108  0.09962397 0.09853592]\n"
     ]
    }
   ],
   "source": [
    "print(evaluate_Classifier(X_train[:,:1000],W1,b1,W2,b2)[:,0])"
   ]
  },
  {
   "cell_type": "code",
   "execution_count": 21,
   "metadata": {},
   "outputs": [],
   "source": [
    "def compute_Cost(X, Y, W1,b1,W2,b2,lamb):\n",
    "    J = 0.0\n",
    "    p = evaluate_Classifier(X,W1,b1,W2,b2) # K * N\n",
    "    for index in range(X.shape[1]):\n",
    "        J += -np.log(np.dot(p[:,index],Y[:,index]))\n",
    "    J /= X.shape[1]\n",
    "    J += lamb * np.sum(np.square(W1))\n",
    "    J += lamb * np.sum(np.square(W2))\n",
    "    return J"
   ]
  },
  {
   "cell_type": "code",
   "execution_count": 22,
   "metadata": {},
   "outputs": [
    {
     "data": {
      "text/plain": [
       "17.78330608470714"
      ]
     },
     "execution_count": 22,
     "metadata": {},
     "output_type": "execute_result"
    }
   ],
   "source": [
    "compute_Cost(X_train[:,:1000], Y_train[:,:1000], W1,b1,W2,b2,1)"
   ]
  },
  {
   "cell_type": "code",
   "execution_count": 23,
   "metadata": {},
   "outputs": [],
   "source": [
    "def compute_Accuracy(X, y, W1,b1,W2,b2):\n",
    "    p = evaluate_Classifier(X,W1,b1,W2,b2) # P ( K×N)\n",
    "    pred = np.argmax(p,axis=0)\n",
    "    acc = 0.0\n",
    "    for i in range(len(pred)):\n",
    "        if(pred[i] == y[i]):\n",
    "            acc += 1\n",
    "    return acc /len(pred)\n",
    "    "
   ]
  },
  {
   "cell_type": "code",
   "execution_count": 24,
   "metadata": {},
   "outputs": [
    {
     "data": {
      "text/plain": [
       "0.122"
      ]
     },
     "execution_count": 24,
     "metadata": {},
     "output_type": "execute_result"
    }
   ],
   "source": [
    "compute_Accuracy(X_train[:,:1000], y_train[:1000], W1,b1,W2,b2)"
   ]
  },
  {
   "cell_type": "code",
   "execution_count": 25,
   "metadata": {},
   "outputs": [],
   "source": [
    "#function that compute the grad\n",
    "# Input: - X(d,N)\n",
    "#        - Y(KxN)\n",
    "#        - P(K×N)\n",
    "#        - W1(m,d)\n",
    "#        - b1(m,1)\n",
    "#        - W2(K,m)\n",
    "#        - b2(K,1)\n",
    "#        - lambda\n",
    "# Output:- grad_W(K×d)\n",
    "#        - grad_b(K×1)\n",
    "def compute_Gradients(X, Y, p, W1,b1,W2,b2, lamb):\n",
    "    m = W2.shape[1]\n",
    "    K = W2.shape[0]\n",
    "    d = X.shape[0]\n",
    "    N = X.shape[1]\n",
    "    grad_W1 = np.zeros((m,d))\n",
    "    grad_b1 = np.zeros((m,1))\n",
    "    grad_W2 = np.zeros((K,m))\n",
    "    grad_b2 = np.zeros((K,1))\n",
    "    \n",
    "    s1 = np.dot(W1,X) + b1 # KxN\n",
    "    hh = np.maximum(s1, 0)\n",
    "    \n",
    "    g = - (Y.T - p.T).T #(KxN)\n",
    "    grad_b2 += np.mean(g, axis=-1, keepdims=True)  \n",
    "    grad_W2 += np.dot(g,hh.T)\n",
    "    grad_W2 /= N\n",
    "    grad_W2 += 2 * lamb * W2\n",
    "    \n",
    "    g = np.dot(g.T,W2)\n",
    "    g1 = np.where(s1 > 0, 1, 0)\n",
    "    g = np.multiply(g.T, g1)\n",
    "    grad_b1 += np.mean(g, axis=-1, keepdims=True) \n",
    "    grad_W1 += np.dot(g,X.T)\n",
    "    grad_W1 /= N\n",
    "    grad_W1 += 2 * lamb * W1\n",
    "    return grad_W1,grad_b1,grad_W2,grad_b2\n",
    "\n",
    "def compute_Gradients_Num(X, Y, P, W1,b1,W2,b2, lamb, h):\n",
    "    m = W2.shape[1]\n",
    "    K = W2.shape[0]\n",
    "    d = X.shape[0]\n",
    "    N = X.shape[1]\n",
    "    \n",
    "    grad_W1 = np.zeros((m,d))\n",
    "    grad_b1 = np.zeros((m,1))\n",
    "    grad_W2 = np.zeros((K,m))\n",
    "    grad_b2 = np.zeros((K,1))\n",
    "    c =  compute_Cost(X, Y, W1,b1,W2,b2, lamb)\n",
    "    \n",
    "    for i in range(len(b1)):\n",
    "            \n",
    "        b_try = np.copy(b1)\n",
    "        b_try[i] += h\n",
    "       \n",
    "        c2 = compute_Cost(X, Y, W1,b_try,W2,b2, lamb)\n",
    "        grad_b1[i] = (c2 - c) / h\n",
    "        \n",
    "    for i in range(W1.shape[0]):\n",
    "        for j in range(W1.shape[1]):\n",
    "            W_try = np.copy(W1)\n",
    "            W_try[i][j] += h\n",
    "            c2 = compute_Cost(X, Y, W_try,b1,W2,b2, lamb)\n",
    "            grad_W1[i][j] = (c2 - c) / h\n",
    "            \n",
    "    for i in range(len(b2)):\n",
    "            \n",
    "        b_try = np.copy(b2)\n",
    "        b_try[i] += h\n",
    "       \n",
    "        c2 = compute_Cost(X, Y, W1,b1,W2,b_try, lamb)\n",
    "        grad_b2[i] = (c2 - c) / h\n",
    "        \n",
    "    for i in range(W2.shape[0]):\n",
    "        for j in range(W2.shape[1]):\n",
    "            W_try = np.copy(W2)\n",
    "            W_try[i][j] += h\n",
    "            c2 = compute_Cost(X, Y, W1,b1,W_try,b2, lamb)\n",
    "            grad_W2[i][j] = (c2 - c) / h\n",
    "    return grad_W1,grad_b1,grad_W2,grad_b2\n",
    "\n",
    "\n",
    "\n",
    "def compute_Gradients_Slow(X, Y, P, W1,b1,W2,b2, lamb, h):\n",
    "    m = W2.shape[1]\n",
    "    K = W2.shape[0]\n",
    "    d = X.shape[0]\n",
    "    N = X.shape[1]\n",
    "    \n",
    "    grad_W1 = np.zeros((m,d))\n",
    "    grad_b1 = np.zeros((m,1))\n",
    "    grad_W2 = np.zeros((K,m))\n",
    "    grad_b2 = np.zeros((K,1))\n",
    "\n",
    "    for i in range(len(b1)):\n",
    "        \n",
    "        b_try = np.copy(b1)\n",
    "        b_try[i] -= h\n",
    "        c1 = compute_Cost(X, Y, W1,b_try,W2,b2, lamb)\n",
    "        b_try = np.copy(b1)\n",
    "        b_try[i] += h\n",
    "        c2 = compute_Cost(X, Y, W1,b_try,W2,b2, lamb)\n",
    "        grad_b1[i] = (c2 - c1) / (h * 2)\n",
    "        \n",
    "    for i in range(W1.shape[0]):\n",
    "        for j in range(W1.shape[1]):\n",
    "            W_try = np.copy(W1)\n",
    "            W_try[i][j] -= h\n",
    "            c1 = compute_Cost(X, Y, W_try,b1,W2,b2, lamb)\n",
    "            W_try = np.copy(W1)\n",
    "            W_try[i][j] += h\n",
    "            c2 = compute_Cost(X, Y, W_try,b1,W2,b2, lamb)\n",
    "            grad_W1[i][j] = (c2 - c1) / (h * 2)\n",
    "            \n",
    "    for i in range(len(b2)):\n",
    "        \n",
    "        b_try = np.copy(b2)\n",
    "        b_try[i] -= h\n",
    "        c1 = compute_Cost(X, Y, W1,b1,W2,b_try, lamb)\n",
    "        b_try = np.copy(b2)\n",
    "        b_try[i] += h\n",
    "        c2 = compute_Cost(X, Y, W1,b1,W2,b_try, lamb)\n",
    "        grad_b2[i] = (c2 - c1) / (h * 2)\n",
    "        \n",
    "    for i in range(W2.shape[0]):\n",
    "        for j in range(W2.shape[1]):\n",
    "            W_try = np.copy(W2)\n",
    "            W_try[i][j] -= h\n",
    "            c1 = compute_Cost(X, Y, W1,b1,W_try,b2, lamb)\n",
    "            W_try = np.copy(W2)\n",
    "            W_try[i][j] += h\n",
    "            c2 = compute_Cost(X, Y, W1,b1,W_try,b2, lamb)\n",
    "            grad_W2[i][j] = (c2 - c1) / (h * 2)\n",
    "    return grad_W1,grad_b1,grad_W2,grad_b2"
   ]
  },
  {
   "cell_type": "code",
   "execution_count": 57,
   "metadata": {},
   "outputs": [
    {
     "name": "stdout",
     "output_type": "stream",
     "text": [
      "8.304930410861635e-08\n",
      "2.7643282035954512e-08\n",
      "3.424281041524184e-08\n",
      "2.668798337329526e-09\n"
     ]
    }
   ],
   "source": [
    "X = X_train[:,:100]\n",
    "Y = Y_train[:,:100]\n",
    "p = evaluate_Classifier(X,W1,b1,W2,b2)\n",
    "h = 1e-6\n",
    "lamb = 1\n",
    "\n",
    "grad_W1,grad_b1,grad_W2,grad_b2 = compute_Gradients(X, Y, p, W1,b1,W2,b2, lamb)\n",
    "grad_W11,grad_b11,grad_W21,grad_b21 = compute_Gradients_Slow(X, Y, p, W1,b1,W2,b2, lamb, h)\n",
    "\n",
    "\n",
    "print(np.linalg.norm(grad_b1 - grad_b11,ord=1) / max(h ,np.linalg.norm(grad_b1 ,ord=1) + np.linalg.norm(grad_b11 ,ord=1)))\n",
    "print(np.linalg.norm(grad_W1 - grad_W11,ord=1) / max(h ,np.linalg.norm(grad_W1 ,ord=1) + np.linalg.norm(grad_W11 ,ord=1)))\n",
    "print(np.linalg.norm(grad_b2 - grad_b21,ord=1) / max(h ,np.linalg.norm(grad_b2 ,ord=1) + np.linalg.norm(grad_b21 ,ord=1)))\n",
    "print(np.linalg.norm(grad_W2 - grad_W21,ord=1) / max(h ,np.linalg.norm(grad_W2 ,ord=1) + np.linalg.norm(grad_W21 ,ord=1)))"
   ]
  },
  {
   "cell_type": "markdown",
   "metadata": {},
   "source": [
    "## Question 3"
   ]
  },
  {
   "cell_type": "code",
   "execution_count": 26,
   "metadata": {},
   "outputs": [],
   "source": [
    "def fit(X, Y, y, X_val, Y_val, y_val, lamb, n_batch, rho, eta , n_epochs, K, m):\n",
    "    d = X.shape[0]\n",
    "    N = X.shape[1]\n",
    "    \n",
    "    W1, b1, W2, b2 = initializeWb(K,d,m)\n",
    "    lostTrain = []\n",
    "    lostVal = []\n",
    "    \n",
    "    W1_momentum = np.zeros((m,d))\n",
    "    b1_momentum = np.zeros((m,1))\n",
    "    W2_momentum = np.zeros((K,m))\n",
    "    b2_momentum = np.zeros((K,1))\n",
    "    \n",
    "    for _ in range(n_epochs):\n",
    "        for j in range(int(N / n_batch)):\n",
    "            \n",
    "            start = j * n_batch\n",
    "            end = (j + 1) * n_batch\n",
    "            X_batch = X[:,start:end]\n",
    "            Y_batch = Y[:,start:end]\n",
    "            p = evaluate_Classifier(X_batch,W1,b1,W2,b2)\n",
    "            grad_W1,grad_b1,grad_W2,grad_b2 = compute_Gradients(X_batch, Y_batch, p, W1,b1,W2,b2, lamb)\n",
    "            W1_momentum = W1_momentum * rho +  eta * grad_W1\n",
    "            b1_momentum = b1_momentum * rho +  eta * grad_b1\n",
    "            W2_momentum = W2_momentum * rho +  eta * grad_W2\n",
    "            b2_momentum = b2_momentum * rho +  eta * grad_b2\n",
    "            \n",
    "            W1 -= W1_momentum\n",
    "            W2 -= W2_momentum\n",
    "            b1 -= b1_momentum\n",
    "            b2 -= b2_momentum\n",
    "        #print(\"Accurency on the test = \"  + str(compute_Accuracy(X_val, y_val, W1, b1, W2, b2)))\n",
    "        eta *= 0.95\n",
    "        lostTrain.append(compute_Cost(X, Y, W1,b1,W2,b2, lamb))\n",
    "        lostVal.append(compute_Cost(X_val, Y_val, W1,b1,W2,b2, lamb))\n",
    "    \n",
    "    return W1, b1, W2, b2, lostTrain, lostVal"
   ]
  },
  {
   "cell_type": "code",
   "execution_count": 27,
   "metadata": {},
   "outputs": [],
   "source": [
    "def plot_curve(lostTrain, lostVal):\n",
    "    rr = range(len(lostVal))\n",
    "    plt.plot(rr, lostVal,'green')\n",
    "    plt.plot(rr, lostTrain,'blue')\n",
    "    plt.title(\"loss during the training for eta = \" + str(eta) + \" lambda = \" + str(lamb))\n",
    "    green_patch = mpatches.Patch(color='blue', label=\"Training loss\")\n",
    "    blue_patch = mpatches.Patch(color='green', label=\"Validation loss\")\n",
    "    plt.legend(handles=[green_patch, blue_patch])\n",
    "    plt.savefig(str(lamb) + '_'+ str(eta) + '.png')\n",
    "    plt.show()"
   ]
  },
  {
   "cell_type": "markdown",
   "metadata": {},
   "source": [
    "### Question 4"
   ]
  },
  {
   "cell_type": "code",
   "execution_count": 28,
   "metadata": {},
   "outputs": [
    {
     "name": "stdout",
     "output_type": "stream",
     "text": [
      "Accurency on the test = 0.4265\n"
     ]
    }
   ],
   "source": [
    "# To test one parameter\n",
    "N = 10000\n",
    "N_bis = 9000\n",
    "K = 10\n",
    "d = 3072\n",
    "lamb = 0.0001\n",
    "m = 50\n",
    "X = X_train[:,:N_bis]\n",
    "Y = Y_train[:,:N_bis]\n",
    "y = y_train[:N_bis]\n",
    "\n",
    "X_val = X_train[:,N_bis:]\n",
    "Y_val = Y_train[:,N_bis:]\n",
    "y_val = y_train[N_bis:]\n",
    "\n",
    "n_batch= 100\n",
    "eta= 0.02\n",
    "n_epochs= 5\n",
    "rho = 0.9\n",
    "W1, b1, W2, b2, lostTrain, lostVal = fit(X, Y, y, X_val, Y_val, y_val,  lamb, n_batch, rho, eta, n_epochs, K, m)\n",
    "print(\"Accurency on the test = \"  + str(compute_Accuracy(X_test, y_test, W1, b1, W2, b2)))"
   ]
  },
  {
   "cell_type": "markdown",
   "metadata": {},
   "source": [
    "## Grid Search"
   ]
  },
  {
   "cell_type": "code",
   "execution_count": 35,
   "metadata": {},
   "outputs": [],
   "source": [
    "eta_start = 0.01\n",
    "eta_end = 0.1\n",
    "eta_number = 20\n",
    "eta_step = (eta_end - eta_start) / eta_number\n",
    "grid_eta = np.arange(eta_start, eta_end, eta_step)\n",
    "\n",
    "\n",
    "lamb_start = 0.00001\n",
    "lamb_end = 0.0001\n",
    "lamb_number = 10\n",
    "lamb_step = (lamb_end - lamb_start) / lamb_number\n",
    "grid_lamb = np.arange(lamb_start, lamb_end, lamb_step)\n",
    "\n",
    "\n",
    "N = 10000\n",
    "N_bis = 9000\n",
    "K = 10\n",
    "d = 3072\n",
    "\n",
    "\n",
    "X = X_train[:,:N_bis]\n",
    "Y = Y_train[:,:N_bis]\n",
    "y = y_train[:N_bis]\n",
    "\n",
    "X_val = X_train[:,N_bis:]\n",
    "Y_val = Y_train[:,N_bis:]\n",
    "y_val = y_train[N_bis:]\n",
    "\n",
    "n_batch= 100\n",
    "n_epochs= 5\n",
    "rho = 0.9\n",
    "\n",
    "best_score = 0.0\n",
    "best_lamb = 0\n",
    "best_eta = 0\n",
    "result = []\n",
    "for lamb in grid_lamb:\n",
    "    for eta in grid_eta:\n",
    "        W1, b1, W2, b2, lostTrain, lostVal = fit(X, Y, y, X_val, Y_val, y_val,  lamb, n_batch, rho, eta, n_epochs, K, m)\n",
    "        acc = compute_Accuracy(X_val, y_val, W1, b1, W2, b2)\n",
    "        result.append((acc,lamb,eta))\n"
   ]
  },
  {
   "cell_type": "code",
   "execution_count": 36,
   "metadata": {},
   "outputs": [
    {
     "name": "stdout",
     "output_type": "stream",
     "text": [
      "(0.455, 2.8000000000000003e-05, 0.0685)\n"
     ]
    }
   ],
   "source": [
    "\n",
    "print(sorted(result)[-1])"
   ]
  },
  {
   "cell_type": "markdown",
   "metadata": {},
   "source": [
    "### Plot part"
   ]
  },
  {
   "cell_type": "code",
   "execution_count": 37,
   "metadata": {},
   "outputs": [],
   "source": [
    "def plot_curve(lostTrain, lostVal):\n",
    "    rr = range(len(lostVal))\n",
    "    plt.plot(rr, lostVal,'green')\n",
    "    plt.plot(rr, lostTrain,'blue')\n",
    "    plt.title(\"loss during the training for eta = \" + str(eta) + \" lambda = \" + str(lamb))\n",
    "    green_patch = mpatches.Patch(color='blue', label=\"Training loss\")\n",
    "    blue_patch = mpatches.Patch(color='green', label=\"Validation loss\")\n",
    "    plt.legend(handles=[green_patch, blue_patch])\n",
    "    plt.savefig(str(lamb) + '_'+ str(eta) + '.png')\n",
    "    plt.show()"
   ]
  },
  {
   "cell_type": "code",
   "execution_count": 46,
   "metadata": {},
   "outputs": [
    {
     "name": "stdout",
     "output_type": "stream",
     "text": [
      "Accurency on the test = 0.2461\n"
     ]
    }
   ],
   "source": [
    "N = 10000\n",
    "N_bis = 9000\n",
    "K = 10\n",
    "d = 3072\n",
    "lamb = 2.8000000000000003e-05#7.3e-05\n",
    "m = 50\n",
    "X = X_train[:,:N_bis]\n",
    "Y = Y_train[:,:N_bis]\n",
    "y = y_train[:N_bis]\n",
    "\n",
    "X_val, Y_val, y_val = load_batch(data_folder + validation_file)\n",
    "n_batch= 100\n",
    "eta=  0.0685#0.046\n",
    "n_epochs= 10\n",
    "rho = 0\n",
    "W1, b1, W2, b2, lostTrain, lostVal = fit(X, Y, y, X_val, Y_val, y_val,  lamb, n_batch, rho, eta, n_epochs, K, m)\n",
    "print(\"Accurency on the test = \"  + str(compute_Accuracy(X_test, y_test, W1, b1, W2, b2)))\n",
    "\n"
   ]
  },
  {
   "cell_type": "code",
   "execution_count": 45,
   "metadata": {},
   "outputs": [
    {
     "data": {
      "image/png": "[encoded data removed]",
      "text/plain": [
       "<matplotlib.figure.Figure at 0x113b9ada0>"
      ]
     },
     "metadata": {},
     "output_type": "display_data"
    }
   ],
   "source": [
    "plot_curve(lostTrain, lostVal)"
   ]
  },
  {
   "cell_type": "code",
   "execution_count": null,
   "metadata": {},
   "outputs": [],
   "source": []
  }
 ],
 "metadata": {
  "kernelspec": {
   "display_name": "Python 3",
   "language": "python",
   "name": "python3"
  },
  "language_info": {
   "codemirror_mode": {
    "name": "ipython",
    "version": 3
   },
   "file_extension": ".py",
   "mimetype": "text/x-python",
   "name": "python",
   "nbconvert_exporter": "python",
   "pygments_lexer": "ipython3",
   "version": "3.6.3"
  }
 },
 "nbformat": 4,
 "nbformat_minor": 2
}
