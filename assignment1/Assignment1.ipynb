{
 "cells": [
  {
   "cell_type": "markdown",
   "metadata": {},
   "source": [
    "# Assigment 1  Deep Learning\n",
    "### by Yeramian Kevin"
   ]
  },
  {
   "cell_type": "code",
   "execution_count": 1,
   "metadata": {},
   "outputs": [],
   "source": [
    "# Import for the Assigment1\n",
    "import matplotlib\n",
    "import matplotlib.pyplot as plt\n",
    "import matplotlib.patches as mpatches\n",
    "import numpy as np\n",
    "import math\n",
    "import pickle\n"
   ]
  },
  {
   "cell_type": "code",
   "execution_count": 2,
   "metadata": {},
   "outputs": [],
   "source": [
    "# Global Variable\n",
    "training_file = \"data_batch_1\"\n",
    "validation_file = \"data_batch_2\"\n",
    "test_file = \"test_batch\"\n",
    "data_folder = \"Datasets/cifar-10-batches-py/\"\n",
    "\n",
    "N = 10000\n",
    "K = 10\n",
    "d = 3072\n",
    "lamb = 1.0"
   ]
  },
  {
   "cell_type": "markdown",
   "metadata": {},
   "source": [
    "## Exercise 1: Training a multi-linear classifier"
   ]
  },
  {
   "cell_type": "markdown",
   "metadata": {},
   "source": [
    "### Question1"
   ]
  },
  {
   "cell_type": "code",
   "execution_count": 3,
   "metadata": {},
   "outputs": [],
   "source": [
    "#Q1\n",
    "# Trasnform a vector of label to a vector of hot-one(dumies)\n",
    "def hot_one(y):\n",
    "    Y = []\n",
    "    for yi in y:\n",
    "        yihot = [0] * K\n",
    "        yihot[yi] = 1\n",
    "        Y.append(yihot)\n",
    "    return np.array(Y)\n",
    "    \n",
    "    \n",
    "#Functions that load data from file.\n",
    "def load_batch(file_name):\n",
    "\n",
    "    with open(file_name, 'rb') as fo:\n",
    "        dict = pickle.load(fo, encoding='bytes')\n",
    "    y = np.hstack(dict[b'labels'])\n",
    "    X = dict[b'data'].astype(float).T / 255.0\n",
    "    Y = hot_one(y).T\n",
    "    return X,Y,y"
   ]
  },
  {
   "cell_type": "code",
   "execution_count": 4,
   "metadata": {},
   "outputs": [],
   "source": [
    "#Load of every datasete\n",
    "\n",
    "X_train, Y_train, y_train = load_batch(data_folder + training_file)\n",
    "X_test, Y_test, y_test = load_batch(data_folder + test_file)\n",
    "X_val, Y_val, y_val = load_batch(data_folder + validation_file)"
   ]
  },
  {
   "cell_type": "markdown",
   "metadata": {},
   "source": [
    "### Question2"
   ]
  },
  {
   "cell_type": "code",
   "execution_count": 5,
   "metadata": {},
   "outputs": [],
   "source": [
    "#Q2 Inialize W (K,d) and b(K,1)\n",
    "def initializeWb(K,d):\n",
    "    mu = 0\n",
    "    sigma = 0.01\n",
    "    W =  np.random.normal(mu, sigma, (K,d))\n",
    "    b = np.random.normal(mu, sigma, (K,1))\n",
    "    return W,b\n",
    "W, b = initializeWb(K,d)"
   ]
  },
  {
   "cell_type": "markdown",
   "metadata": {},
   "source": [
    "### Question3"
   ]
  },
  {
   "cell_type": "code",
   "execution_count": 6,
   "metadata": {},
   "outputs": [],
   "source": [
    "# Q3 function that eval the network\n",
    "#function that predict label for X\n",
    "#Input : - X(d,N)\n",
    "#        - W(K,d)\n",
    "#        - b(d,1)\n",
    "#Output : P ( K×N), the probability for each label for the image in the corresponding column of X\n",
    "def evaluate_Classifier(X,W,b):\n",
    "    s = np.dot(W,X) + b # KxN\n",
    "    aux = np.exp(s)\n",
    "    summ = np.sum(aux, axis=0) #axis=0 sum by colum so we got 1000 therm to normalize\n",
    "    p = aux/ summ\n",
    "    return p"
   ]
  },
  {
   "cell_type": "code",
   "execution_count": 7,
   "metadata": {},
   "outputs": [
    {
     "name": "stdout",
     "output_type": "stream",
     "text": [
      "[[0.07734642 0.07146392 0.08188224 ... 0.07417983 0.05556265 0.09091742]\n",
      " [0.10025188 0.07502446 0.11184124 ... 0.09093274 0.10712233 0.09693415]\n",
      " [0.09734799 0.09915055 0.09934272 ... 0.1007051  0.09697317 0.08359595]\n",
      " ...\n",
      " [0.06955919 0.06664863 0.07439405 ... 0.08451033 0.08210022 0.09128367]\n",
      " [0.11893672 0.0974279  0.07647353 ... 0.09101579 0.06880949 0.09823483]\n",
      " [0.08289556 0.07287891 0.07695013 ... 0.08690463 0.08508864 0.09001577]]\n"
     ]
    }
   ],
   "source": [
    "#Test of Question3\n",
    "W, b = initializeWb(K,d)\n",
    "print(evaluate_Classifier(X_train[:,:1000],W,b))"
   ]
  },
  {
   "cell_type": "markdown",
   "metadata": {},
   "source": [
    "### Question4"
   ]
  },
  {
   "cell_type": "code",
   "execution_count": 8,
   "metadata": {},
   "outputs": [],
   "source": [
    "# Q4 function that compute cost\n",
    "#function that predict label for X\n",
    "# Input: - X(d,N)\n",
    "#        - Y(KxN)\n",
    "#        - W(K,d)\n",
    "#        - b(d,1)\n",
    "#        - lambda\n",
    "# Output: Cost\n",
    "def compute_Cost(X, Y, W, b, lamb):\n",
    "    J = 0.0\n",
    "    p = evaluate_Classifier(X,W,b) # K * N\n",
    "    for index in range(X.shape[1]):\n",
    "        J += -np.log(np.dot(p[:,index],Y[:,index]))\n",
    "    J /= X.shape[1]\n",
    "    J += lamb * np.sum(np.square(W))\n",
    "    return J"
   ]
  },
  {
   "cell_type": "code",
   "execution_count": 10,
   "metadata": {},
   "outputs": [
    {
     "name": "stdout",
     "output_type": "stream",
     "text": [
      "5.393503893260901\n"
     ]
    }
   ],
   "source": [
    "# Test of question 4\n",
    "lamb = 1.0\n",
    "print(compute_Cost(X_train[:,:1], Y_train, W, b, lamb))\n"
   ]
  },
  {
   "cell_type": "markdown",
   "metadata": {},
   "source": [
    "### Question5"
   ]
  },
  {
   "cell_type": "code",
   "execution_count": 11,
   "metadata": {},
   "outputs": [],
   "source": [
    "def compute_Accuracy(X, y, W, b):\n",
    "    p = evaluate_Classifier(X,W,b) # P ( K×N)\n",
    "    pred = np.argmax(p,axis=0)\n",
    "    acc = 0.0\n",
    "    for i in range(len(pred)):\n",
    "        if(pred[i] == y[i]):\n",
    "            acc += 1\n",
    "    \n",
    "    return acc /len(pred)\n",
    "    "
   ]
  },
  {
   "cell_type": "code",
   "execution_count": 12,
   "metadata": {},
   "outputs": [
    {
     "data": {
      "text/plain": [
       "0.1"
      ]
     },
     "execution_count": 12,
     "metadata": {},
     "output_type": "execute_result"
    }
   ],
   "source": [
    "#Test\n",
    "compute_Accuracy(X_train[:,:100], y_train,W,b)"
   ]
  },
  {
   "cell_type": "markdown",
   "metadata": {},
   "source": [
    "### Question 6"
   ]
  },
  {
   "cell_type": "code",
   "execution_count": 13,
   "metadata": {},
   "outputs": [],
   "source": [
    "#function that compute the grad\n",
    "# Input: - X(d,N)\n",
    "#        - Y(KxN)\n",
    "#        - P(K×N)\n",
    "#        - W(K,d)\n",
    "#        - b(d,1)\n",
    "#        - lambda\n",
    "# Output:- grad_W(K×d)\n",
    "#        - grad_b(K×1)\n",
    "def compute_Gradients_Slow(X, Y, P, W, b, lamb, h):\n",
    "    K = W.shape[0]\n",
    "    d = X.shape[0]\n",
    "    N = X.shape[1]\n",
    "    grad_W = np.zeros((K,d))\n",
    "    grad_b = np.zeros((K,1))\n",
    "\n",
    "    for i in range(len(b)):\n",
    "        \n",
    "        b_try = np.copy(b)\n",
    "        b_try[i] -= h\n",
    "        c1 = compute_Cost(X, Y, W, b_try, lamb)\n",
    "        b_try = np.copy(b)\n",
    "        b_try[i] += h\n",
    "        c2 = compute_Cost(X, Y, W, b_try, lamb)\n",
    "        grad_b[i] = (c2 - c1) / (h * 2)\n",
    "        \n",
    "    for i in range(W.shape[0]):\n",
    "        for j in range(W.shape[1]):\n",
    "            W_try = np.copy(W)\n",
    "            W_try[i][j] -= h\n",
    "            c1 = compute_Cost(X, Y, W_try, b, lamb)\n",
    "            W_try = np.copy(W)\n",
    "            W_try[i][j] += h\n",
    "            c2 = compute_Cost(X, Y, W_try, b, lamb)\n",
    "            grad_W[i][j] = (c2 - c1) / (h * 2)\n",
    "    return grad_W, grad_b\n"
   ]
  },
  {
   "cell_type": "code",
   "execution_count": 14,
   "metadata": {},
   "outputs": [],
   "source": [
    "#function that compute the grad\n",
    "# Input: - X(d,N)\n",
    "#        - Y(KxN)\n",
    "#        - P(K×N)\n",
    "#        - W(K,d)\n",
    "#        - b(d,1)\n",
    "#        - lambda\n",
    "# Output:- grad_W(K×d)\n",
    "#        - grad_b(K×1)\n",
    "def compute_Gradients_Num(X, Y, P, W, b, lamb, h):\n",
    "    K = W.shape[0]\n",
    "    d = X.shape[0]\n",
    "    N = X.shape[1]\n",
    "    grad_W = np.zeros((K,d))\n",
    "    grad_b = np.zeros((K,1))\n",
    "    c =  compute_Cost(X, Y, W, b, lamb)\n",
    "    for i in range(len(b)):\n",
    "            \n",
    "        b_try = np.copy(b)\n",
    "        b_try[i] += h\n",
    "       \n",
    "        c2 = compute_Cost(X, Y, W, b_try, lamb)\n",
    "        grad_b[i] = (c2 - c) / h\n",
    "    for i in range(W.shape[0]):\n",
    "        for j in range(W.shape[1]):\n",
    "            W_try = np.copy(W)\n",
    "            W_try[i][j] += h\n",
    "            c2 = compute_Cost(X, Y, W_try, b, lamb)\n",
    "            grad_W[i][j] = (c2 - c) / h\n",
    "    return grad_W, grad_b\n",
    "\n",
    "#function that compute the grad\n",
    "# Input: - X(d,N)\n",
    "#        - Y(KxN)\n",
    "#        - P(K×N)\n",
    "#        - W(K,d)\n",
    "#        - b(d,1)\n",
    "#        - lambda\n",
    "# Output:- grad_W(K×d)\n",
    "#        - grad_b(K×1)\n",
    "def compute_Gradients(X, Y, p, W, b, lamb):\n",
    "    K = W.shape[0]\n",
    "    d = X.shape[0]\n",
    "    N = X.shape[1]\n",
    "    grad_W = np.zeros((K,d))\n",
    "    grad_b = np.zeros((K,1))\n",
    "    g = - (Y - p) #(KxN)\n",
    "    \n",
    "    gx = g.dot(X.T) #K*d\n",
    "\n",
    "    grad_W += gx\n",
    "    grad_b += np.mean(g, axis=-1, keepdims=True)\n",
    "    grad_W /= N\n",
    "    return grad_W + 2 * lamb * W, grad_b"
   ]
  },
  {
   "cell_type": "code",
   "execution_count": 15,
   "metadata": {
    "scrolled": true
   },
   "outputs": [
    {
     "name": "stdout",
     "output_type": "stream",
     "text": [
      "6.207404872215878e-07\n",
      "2.3490729689537573e-06\n",
      "5.336223367496756e-09\n",
      "1.521979794366476e-08\n"
     ]
    }
   ],
   "source": [
    "N = 10000\n",
    "K = 10\n",
    "d = 3072\n",
    "lamb = 0.1\n",
    "X = X_train[:,:100]\n",
    "Y = Y_train[:,:100]\n",
    "p = evaluate_Classifier(X,W,b)\n",
    "h = 1e-6\n",
    "grad_W1, grad_b1 = compute_Gradients(X, Y, p, W, b, lamb)\n",
    "\n",
    "grad_W2, grad_b2 = compute_Gradients_Num(X, Y, p, W, b, lamb, h)\n",
    "\n",
    "print(np.linalg.norm(grad_b1 - grad_b2,ord=1) / max(h ,np.linalg.norm(grad_b1 ,ord=1) + np.linalg.norm(grad_b2 ,ord=1)))\n",
    "print(np.linalg.norm(grad_W1 - grad_W2,ord=1) / max(h ,np.linalg.norm(grad_W1 ,ord=1) + np.linalg.norm(grad_W2 ,ord=1)))\n",
    "grad_W2, grad_b2 = compute_Gradients_Slow(X, Y, p, W, b, lamb, h)\n",
    "\n",
    "print(np.linalg.norm(grad_b1 - grad_b2,ord=1) / max(h ,np.linalg.norm(grad_b1 ,ord=1) + np.linalg.norm(grad_b2 ,ord=1)))\n",
    "print(np.linalg.norm(grad_W1 - grad_W2,ord=1) / max(h ,np.linalg.norm(grad_W1 ,ord=1) + np.linalg.norm(grad_W2 ,ord=1)))\n",
    "\n",
    "#3.4387938012754914e-06\n",
    "#6.034356916166771e-07\n",
    "#1.3415812319509035e-06\n",
    "#2.6146748585888226e-07"
   ]
  },
  {
   "cell_type": "markdown",
   "metadata": {},
   "source": [
    "### Question 7"
   ]
  },
  {
   "cell_type": "code",
   "execution_count": 16,
   "metadata": {},
   "outputs": [],
   "source": [
    "def fit(X, Y, y, X_val, Y_val, y_val, lamb, n_batch, eta , n_epochs, K):\n",
    "    d = X.shape[0]\n",
    "    N = X.shape[1]\n",
    "    W, b = initializeWb(K,d)\n",
    "    lostTrain = []\n",
    "    lostVal = []\n",
    "    for _ in range(n_epochs):\n",
    "        for j in range(int(N / n_batch)):\n",
    "            \n",
    "            start = j * n_batch\n",
    "            end = (j + 1) * n_batch\n",
    "            X_batch = X[:,start:end]\n",
    "            Y_batch = Y[:,start:end]\n",
    "            p = evaluate_Classifier(X_batch,W,b)\n",
    "            grad_W, grad_b = compute_Gradients(X_batch, Y_batch, p, W, b, lamb)\n",
    "            W = W -  eta * grad_W\n",
    "            b = b -  eta * grad_b\n",
    "        lostTrain.append(compute_Cost(X, Y, W, b, lamb))\n",
    "        lostVal.append(compute_Cost(X_val, Y_val, W, b, lamb))\n",
    "    \n",
    "    return W, b, lostTrain, lostVal"
   ]
  },
  {
   "cell_type": "code",
   "execution_count": 17,
   "metadata": {},
   "outputs": [
    {
     "name": "stdout",
     "output_type": "stream",
     "text": [
      "Accurency on the test = 0.2404\n"
     ]
    }
   ],
   "source": [
    "N = 10000\n",
    "N_bis = 9000\n",
    "K = 10\n",
    "d = 3072\n",
    "lamb = 1\n",
    "X = X_train[:,:N_bis]\n",
    "Y = Y_train[:,:N_bis]\n",
    "y = y_train[:N_bis]\n",
    "\n",
    "X_val = X_train[:,N_bis:]\n",
    "Y_val = Y_train[:,N_bis:]\n",
    "y_val = y_train[N_bis:]\n",
    "\n",
    "n_batch= 100\n",
    "eta=0.01\n",
    "n_epochs= 40\n",
    "W, b, lostTrain, lostVal = fit(X, Y, y, X_val, Y_val, y_val,  lamb, n_batch, eta , n_epochs, K)\n",
    "print(\"Accurency on the test = \"  + str(compute_Accuracy(X_test, y_test, W, b)))"
   ]
  },
  {
   "cell_type": "markdown",
   "metadata": {},
   "source": [
    "### PLOT LOST"
   ]
  },
  {
   "cell_type": "code",
   "execution_count": 18,
   "metadata": {},
   "outputs": [],
   "source": [
    "def plot_curve(lostTrain, lostVal):\n",
    "    rr = range(len(lostVal))\n",
    "    plt.plot(rr, lostVal,'green')\n",
    "    plt.plot(rr, lostTrain,'blue')\n",
    "    plt.title(\"loss during the training for eta = \" + str(eta) + \" lambda = \" + str(lamb))\n",
    "    green_patch = mpatches.Patch(color='blue', label=\"Training loss\")\n",
    "    blue_patch = mpatches.Patch(color='green', label=\"Validation loss\")\n",
    "    plt.legend(handles=[green_patch, blue_patch])\n",
    "    plt.savefig(str(lamb) + '_'+ str(eta) + '.png')\n",
    "    plt.show()"
   ]
  },
  {
   "cell_type": "code",
   "execution_count": 19,
   "metadata": {},
   "outputs": [
    {
     "data": {
      "image/png": "[encoded data removed]",
      "text/plain": [
       "<matplotlib.figure.Figure at 0x113aea780>"
      ]
     },
     "metadata": {},
     "output_type": "display_data"
    }
   ],
   "source": [
    "plot_curve(lostTrain, lostVal)"
   ]
  },
  {
   "cell_type": "markdown",
   "metadata": {},
   "source": [
    "### PLOT W"
   ]
  },
  {
   "cell_type": "code",
   "execution_count": 20,
   "metadata": {},
   "outputs": [],
   "source": [
    "def plot_W(W):\n",
    "    for i, row in enumerate(W):\n",
    "                    img = (row - row.min()) / (row.max() - row.min())\n",
    "                    plt.subplot(2, 5, i + 1)\n",
    "                    img = np.rot90(np.reshape(img, (32, 32, 3), order='F'), k=3)\n",
    "                    plt.imshow(img)\n",
    "                    plt.axis('off')\n",
    "                    \n",
    "    plt.savefig(\"weights_\"+ str(lamb) + '_'+ str(eta) + \".png\")\n",
    "    plt.show()"
   ]
  },
  {
   "cell_type": "code",
   "execution_count": 21,
   "metadata": {},
   "outputs": [
    {
     "data": {
      "image/png": "[encoded data removed]",
      "text/plain": [
       "<matplotlib.figure.Figure at 0x113c24c50>"
      ]
     },
     "metadata": {},
     "output_type": "display_data"
    }
   ],
   "source": [
    "plot_W(W)"
   ]
  }
 ],
 "metadata": {
  "kernelspec": {
   "display_name": "Python 3",
   "language": "python",
   "name": "python3"
  },
  "language_info": {
   "codemirror_mode": {
    "name": "ipython",
    "version": 3
   },
   "file_extension": ".py",
   "mimetype": "text/x-python",
   "name": "python",
   "nbconvert_exporter": "python",
   "pygments_lexer": "ipython3",
   "version": "3.6.3"
  }
 },
 "nbformat": 4,
 "nbformat_minor": 2
}
